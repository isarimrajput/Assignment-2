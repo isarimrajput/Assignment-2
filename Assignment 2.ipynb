{
 "cells": [
  {
   "cell_type": "code",
   "execution_count": 1,
   "metadata": {},
   "outputs": [
    {
     "name": "stdout",
     "output_type": "stream",
     "text": [
      "Python\n",
      "Python\n",
      "Programming\n",
      "PtoPormig\n",
      "gnimmargorPnohtyP\n"
     ]
    }
   ],
   "source": [
    "# String Slicing in Python\n",
    "s = \"PythonProgramming\"\n",
    "print(s[0:6])    \n",
    "print(s[:6])     \n",
    "print(s[6:])      \n",
    "print(s[::2])     \n",
    "print(s[::-1])    \n"
   ]
  },
  {
   "cell_type": "code",
   "execution_count": null,
   "metadata": {},
   "outputs": [],
   "source": [
    "# Key Features of Lists in Python\n",
    "my_list = [1, \"Python\", 3.14, True]\n",
    "print(my_list[1]) \n"
   ]
  },
  {
   "cell_type": "code",
   "execution_count": null,
   "metadata": {},
   "outputs": [],
   "source": [
    "# Access, Modify, and Delete Elements in a List\n",
    "# Accessing\n",
    "lst = [10, 20, 30, 40]\n",
    "print(lst[2])    \n",
    "print(lst[-1])   \n",
    "\n",
    "# Modifying\n",
    "lst[2] = 99\n",
    "print(lst)       \n",
    "\n",
    "# Deleting\n",
    "del lst[1]       \n",
    "print(lst)       \n",
    "\n",
    "lst.remove(99)   \n",
    "print(lst)      \n",
    "\n",
    "# Tuples vs. Lists\n",
    "\n",
    "# Tuple\n",
    "t = (1, 2, 3)\n",
    "print(t[1])       \n",
    "\n",
    "# List\n",
    "l = [1, 2, 3]\n",
    "l[1] = 99\n",
    "print(l)          \n",
    "\n",
    "# Key Features of Sets\n",
    "s = {1, 2, 3}\n",
    "s.add(4)\n",
    "print(s)         \n",
    "s.remove(2)\n",
    "print(s)          \n",
    "\n",
    "# Adding, Modifying, and Deleting Items in a Dictionary\n",
    "\n",
    "# Adding:\n",
    "d = {\"a\": 1, \"b\": 2}\n",
    "d[\"c\"] = 3\n",
    "print(d)          \n",
    "\n",
    "# Modifying\n",
    "\n",
    "d[\"b\"] = 99\n",
    "print(d)         \n",
    "\n",
    "# Deleting\n",
    "\n",
    "del d[\"a\"]\n",
    "print(d)          \n",
    "\n",
    "# Importance of Dictionary Keys Being Immutable\n",
    "\n",
    "# Valid keys\n",
    "d = {1: \"one\", \"name\": \"Alice\", (2, 3): \"tuple\"}\n",
    "print(d)\n",
    "\n",
    "\n",
    "\n"
   ]
  }
 ],
 "metadata": {
  "kernelspec": {
   "display_name": "Python 3",
   "language": "python",
   "name": "python3"
  },
  "language_info": {
   "codemirror_mode": {
    "name": "ipython",
    "version": 3
   },
   "file_extension": ".py",
   "mimetype": "text/x-python",
   "name": "python",
   "nbconvert_exporter": "python",
   "pygments_lexer": "ipython3",
   "version": "3.13.0"
  }
 },
 "nbformat": 4,
 "nbformat_minor": 2
}
